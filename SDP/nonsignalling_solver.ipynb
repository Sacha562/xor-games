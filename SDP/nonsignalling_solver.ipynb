{
 "cells": [
  {
   "cell_type": "code",
   "execution_count": 1,
   "metadata": {
    "ExecuteTime": {
     "end_time": "2023-06-23T21:03:42.923865500Z",
     "start_time": "2023-06-23T21:03:42.896859300Z"
    }
   },
   "outputs": [],
   "source": [
    "import itertools as it\n",
    "from pulp import LpMaximize, LpProblem, LpStatus, lpSum, LpVariable, PULP_CBC_CMD, value\n",
    "\n",
    "# Set the possible values of each bit: {0, 1}\n",
    "a_range = b_range = x_range = y_range = range(2)\n",
    "\n",
    "\n",
    "def generate_bitstrings(n: int) -> list:\n",
    "    \"\"\"\n",
    "    Function that generates all possible bitstrings of length n.\n",
    "    \"\"\"\n",
    "    if n == 0:\n",
    "        return [[]]\n",
    "    else:\n",
    "        previous_bitstrings = generate_bitstrings(n - 1)\n",
    "        current_bitstrings = []\n",
    "        for bitstring in previous_bitstrings:\n",
    "            current_bitstrings.append(bitstring + [0])\n",
    "            current_bitstrings.append(bitstring + [1])\n",
    "        return current_bitstrings"
   ]
  },
  {
   "cell_type": "markdown",
   "metadata": {},
   "source": [
    "Here, the bitstring lengths that Alice and Bob receive can be set. $x=x\\_range^m$ is for Alice, $y=y\\_range^n$ is for Bob."
   ]
  },
  {
   "cell_type": "code",
   "execution_count": 2,
   "metadata": {
    "ExecuteTime": {
     "end_time": "2023-06-23T21:03:42.926866Z",
     "start_time": "2023-06-23T21:03:42.924865700Z"
    }
   },
   "outputs": [],
   "source": [
    "# These variables may be changed\n",
    "m = 1\n",
    "n = 1\n",
    "\n",
    "# These variables shouldn't be changed\n",
    "# Generates all possible bitstrings for x and y\n",
    "x_values = generate_bitstrings(m)\n",
    "y_values = generate_bitstrings(n)"
   ]
  },
  {
   "cell_type": "markdown",
   "metadata": {},
   "source": [
    "$q(x,y)$ is the distribution function, which returns the probability of Alice receiving $x$ and Bob receiving $y$. For a uniform distribution, `q_uniform` can be called."
   ]
  },
  {
   "cell_type": "code",
   "execution_count": 3,
   "metadata": {
    "ExecuteTime": {
     "end_time": "2023-06-23T21:03:42.938869100Z",
     "start_time": "2023-06-23T21:03:42.926866Z"
    }
   },
   "outputs": [],
   "source": [
    "def q_uniform():\n",
    "    x_possibilities = len(x_values)\n",
    "    y_possibilities = len(y_values)\n",
    "\n",
    "    return 1 / (x_possibilities * y_possibilities)\n",
    "\n",
    "\n",
    "# This function may be changed\n",
    "def q(x: list, y: list):\n",
    "    \"\"\"\n",
    "    :param x: Bitstring x (Alice). A list of integers.\n",
    "    :param y: Bitstring y (Bob). A list of integers.\n",
    "    :return: A user-specified probability\n",
    "    \"\"\"\n",
    "    return q_uniform()"
   ]
  },
  {
   "cell_type": "markdown",
   "metadata": {},
   "source": [
    "Alice and Bob win the game when $a \\oplus b = f(x,y)$.\n",
    "$f(x,y)$ can be set here."
   ]
  },
  {
   "cell_type": "code",
   "execution_count": 4,
   "metadata": {
    "ExecuteTime": {
     "end_time": "2023-06-23T21:03:42.949871Z",
     "start_time": "2023-06-23T21:03:42.939869Z"
    }
   },
   "outputs": [],
   "source": [
    "# This function may be changed\n",
    "def f(x: list, y: list):\n",
    "    \"\"\"\n",
    "    :param x: Bitstring x (Alice). A list of integers.\n",
    "    :param y: Bitstring y (Bob). A list of integers.\n",
    "    \"\"\"\n",
    "    return x[0] and y[0]\n",
    "\n",
    "\n",
    "# This function shouldn't be changed\n",
    "def V(a: int, b: int, x: list, y: list):\n",
    "    return a ^ b == f(x, y)"
   ]
  },
  {
   "cell_type": "markdown",
   "metadata": {},
   "source": [
    "Here we start defining the linear program. We start by creating the variables that need to be optimized. After that we add the constraints.\n"
   ]
  },
  {
   "cell_type": "code",
   "execution_count": 5,
   "outputs": [
    {
     "name": "stdout",
     "output_type": "stream",
     "text": [
      "Sum = 1.0\n",
      "p(0,0|[0],[0]) = 0.5\n",
      "p(0,0|[0],[1]) = 0.5\n",
      "p(0,0|[1],[0]) = 0.5\n",
      "p(0,0|[1],[1]) = 0.0\n",
      "p(0,1|[0],[0]) = 0.0\n",
      "p(0,1|[0],[1]) = 0.0\n",
      "p(0,1|[1],[0]) = 0.0\n",
      "p(0,1|[1],[1]) = 0.5\n",
      "p(1,0|[0],[0]) = 0.0\n",
      "p(1,0|[0],[1]) = 0.0\n",
      "p(1,0|[1],[0]) = 0.0\n",
      "p(1,0|[1],[1]) = 0.5\n",
      "p(1,1|[0],[0]) = 0.5\n",
      "p(1,1|[0],[1]) = 0.5\n",
      "p(1,1|[1],[0]) = 0.5\n",
      "p(1,1|[1],[1]) = 0.0\n"
     ]
    }
   ],
   "source": [
    "problem = LpProblem(name=\"non-signalling\", sense=LpMaximize)\n",
    "\n",
    "\n",
    "# Create a dictionary of all variables\n",
    "variables = {}\n",
    "\n",
    "for (a, b, x, y) in it.product(a_range, b_range, x_values, y_values):\n",
    "    variables[f\"{a},{b}|{x},{y}\"] = LpVariable(name=f\"{a},{b}|{x},{y}\", lowBound=0, upBound=1)\n",
    "\n",
    "# Define the objective function: sum_{abxy} q(x,y) V(ab|xy) p(ab|xy)\n",
    "problem += lpSum([q(x, y) * V(a, b, x, y) * variables[f\"{a},{b}|{x},{y}\"]\n",
    "                for (a, b, x, y) in it.product(a_range, b_range, x_values, y_values)])\n",
    "\n",
    "# Add the constraint \\sum_a p(a,b|x,y) = \\sum_a p(ab|x'y)\n",
    "for (b, x, x1, y) in it.product(b_range, x_values, x_values, y_values):\n",
    "    if x == x1:\n",
    "        continue\n",
    "\n",
    "    sum1 = lpSum([variables[f\"{a},{b}|{x},{y}\"] for a in a_range])\n",
    "    sum2 = lpSum([variables[f\"{a},{b}|{x1},{y}\"] for a in a_range])\n",
    "    problem += sum1 == sum2\n",
    "\n",
    "# Add the constraint \\sum_b p(ab|xy) = \\sum_b p(ab|xy')\n",
    "for (a, x, y, y1) in it.product(a_range, x_values, y_values, y_values):\n",
    "    if y == y1:\n",
    "        continue\n",
    "\n",
    "    sum1 = lpSum([variables[f\"{a},{b}|{x},{y}\"] for b in b_range])\n",
    "    sum2 = lpSum([variables[f\"{a},{b}|{x},{y1}\"] for b in b_range])\n",
    "    problem += sum1 == sum2\n",
    "\n",
    "# Add the constraint \\sum_{ab} p(ab|xy) = 1\n",
    "for (x, y) in it.product(x_values, y_values):\n",
    "    problem += (lpSum([variables[f\"{a},{b}|{x},{y}\"] for (a, b) in it.product(a_range, b_range)]) == 1)\n",
    "\n",
    "\n",
    "problem.solve()\n",
    "\n",
    "print('Sum =', problem.objective.value())\n",
    "for k, v in variables.items():\n",
    "    print(f'p({k}) = {value(v)}')"
   ],
   "metadata": {
    "collapsed": false,
    "ExecuteTime": {
     "end_time": "2023-06-23T21:03:42.990880100Z",
     "start_time": "2023-06-23T21:03:42.947870800Z"
    }
   }
  },
  {
   "cell_type": "markdown",
   "source": [
    "We can verify that this is indeed the optimal non-signalling strategy by comparing it to the general non-signalling strategy for an XOR game:\n",
    "\n",
    "$$p(a,b|x,y)=\\begin{cases} \\frac{1}{2} \\hspace{0.3cm}\\text{if}\\hspace{0.15cm}a\\oplus b = f(x,y) \\\\ 0\\hspace{0.35cm}\\text{otherwise.} \\end{cases}$$"
   ],
   "metadata": {
    "collapsed": false
   }
  }
 ],
 "metadata": {
  "kernelspec": {
   "display_name": "Python 3 (ipykernel)",
   "language": "python",
   "name": "python3"
  },
  "language_info": {
   "codemirror_mode": {
    "name": "ipython",
    "version": 3
   },
   "file_extension": ".py",
   "mimetype": "text/x-python",
   "name": "python",
   "nbconvert_exporter": "python",
   "pygments_lexer": "ipython3",
   "version": "3.9.5"
  }
 },
 "nbformat": 4,
 "nbformat_minor": 1
}
