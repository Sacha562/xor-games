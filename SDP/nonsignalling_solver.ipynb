{
 "cells": [
  {
   "cell_type": "code",
   "execution_count": 29,
   "metadata": {
    "ExecuteTime": {
     "end_time": "2023-06-22T08:30:11.547985500Z",
     "start_time": "2023-06-22T08:30:11.534982900Z"
    }
   },
   "outputs": [],
   "source": [
    "import itertools as it\n",
    "from pulp import LpMaximize, LpProblem, LpStatus, lpSum, LpVariable, PULP_CBC_CMD, value\n",
    "\n",
    "# Set the possible values of each bit: {0, 1}\n",
    "a_range = b_range = x_range = y_range = range(2)\n",
    "\n",
    "\n",
    "def generate_bitstrings(n: int) -> list:\n",
    "    \"\"\"\n",
    "    Function that generates all possible bitstrings of length n.\n",
    "    \"\"\"\n",
    "    if n == 0:\n",
    "        return [[]]\n",
    "    else:\n",
    "        previous_bitstrings = generate_bitstrings(n - 1)\n",
    "        current_bitstrings = []\n",
    "        for bitstring in previous_bitstrings:\n",
    "            current_bitstrings.append(bitstring + [0])\n",
    "            current_bitstrings.append(bitstring + [1])\n",
    "        return current_bitstrings"
   ]
  },
  {
   "cell_type": "markdown",
   "metadata": {},
   "source": [
    "Here, the bitstring lengths that Alice and Bob receive can be set. $x=x\\_range^m$ is for Alice, $y=y\\_range^n$ is for Bob."
   ]
  },
  {
   "cell_type": "code",
   "execution_count": 30,
   "metadata": {
    "ExecuteTime": {
     "end_time": "2023-06-22T08:30:11.548985700Z",
     "start_time": "2023-06-22T08:30:11.538983200Z"
    }
   },
   "outputs": [],
   "source": [
    "# These variables may be changed\n",
    "m = 1\n",
    "n = 1\n",
    "\n",
    "# These variables shouldn't be changed\n",
    "# Generates all possible bitstrings for x and y\n",
    "x_values = generate_bitstrings(m)\n",
    "y_values = generate_bitstrings(n)"
   ]
  },
  {
   "cell_type": "markdown",
   "metadata": {},
   "source": [
    "$q(x,y)$ is the distribution function, which returns the probability of Alice receiving $x$ and Bob receiving $y$. For a uniform distribution, `q_uniform` can be called."
   ]
  },
  {
   "cell_type": "code",
   "execution_count": 31,
   "metadata": {
    "ExecuteTime": {
     "end_time": "2023-06-22T08:30:11.563988900Z",
     "start_time": "2023-06-22T08:30:11.548985700Z"
    }
   },
   "outputs": [],
   "source": [
    "def q_uniform():\n",
    "    x_possibilities = len(x_values)\n",
    "    y_possibilities = len(y_values)\n",
    "\n",
    "    return 1 / (x_possibilities * y_possibilities)\n",
    "\n",
    "\n",
    "# This function may be changed\n",
    "def q(x: list, y: list):\n",
    "    \"\"\"\n",
    "    :param x: Bitstring x (Alice). A list of integers.\n",
    "    :param y: Bitstring y (Bob). A list of integers.\n",
    "    :return: A user-specified probability\n",
    "    \"\"\"\n",
    "    return q_uniform()"
   ]
  },
  {
   "cell_type": "markdown",
   "metadata": {},
   "source": [
    "Alice and Bob win the game when $a \\oplus b = f(x,y)$.\n",
    "$f(x,y)$ can be set here."
   ]
  },
  {
   "cell_type": "code",
   "execution_count": 32,
   "metadata": {
    "ExecuteTime": {
     "end_time": "2023-06-22T08:30:11.568990100Z",
     "start_time": "2023-06-22T08:30:11.559988100Z"
    }
   },
   "outputs": [],
   "source": [
    "# This function may be changed\n",
    "def f(x: list, y: list):\n",
    "    \"\"\"\n",
    "    :param x: Bitstring x (Alice). A list of integers.\n",
    "    :param y: Bitstring y (Bob). A list of integers.\n",
    "    \"\"\"\n",
    "    return x[0] * y[0]\n",
    "\n",
    "\n",
    "# This function shouldn't be changed\n",
    "def V(a: int, b: int, x: list, y: list):\n",
    "    return a ^ b == f(x, y)"
   ]
  },
  {
   "cell_type": "markdown",
   "metadata": {},
   "source": [
    "Here we start defining the linear program. We start by creating the variables that need to be optimized. After that we add the constraints.\n"
   ]
  },
  {
   "cell_type": "code",
   "execution_count": 48,
   "metadata": {
    "ExecuteTime": {
     "end_time": "2023-06-22T09:02:52.551214200Z",
     "start_time": "2023-06-22T09:02:52.528209Z"
    }
   },
   "outputs": [
    {
     "name": "stdout",
     "output_type": "stream",
     "text": [
      "Optimal\n",
      "p(0,0|[0],[0]) = 1.0\n",
      "p(0,0|[0],[1]) = 1.0\n",
      "p(0,0|[1],[0]) = 1.0\n",
      "p(0,0|[1],[1]) = 0.0\n",
      "p(0,1|[0],[0]) = 0.0\n",
      "p(0,1|[0],[1]) = 0.0\n",
      "p(0,1|[1],[0]) = 0.0\n",
      "p(0,1|[1],[1]) = 1.0\n",
      "p(1,0|[0],[0]) = 0.0\n",
      "p(1,0|[0],[1]) = 0.0\n",
      "p(1,0|[1],[0]) = 0.0\n",
      "p(1,0|[1],[1]) = 1.0\n",
      "p(1,1|[0],[0]) = 1.0\n",
      "p(1,1|[0],[1]) = 1.0\n",
      "p(1,1|[1],[0]) = 1.0\n",
      "p(1,1|[1],[1]) = 0.0\n",
      "sum = 2.0\n"
     ]
    }
   ],
   "source": [
    "problem = LpProblem(name='non-signalling', sense=LpMaximize)\n",
    "variables = {}\n",
    "\n",
    "# Outputs\n",
    "A = [0, 1]\n",
    "B = [0, 1]\n",
    "\n",
    "expressions = []\n",
    "\n",
    "# max sum_abxy q(x,y) V(ab|xy) p(ab|xy)\n",
    "for (a, b, x, y) in it.product(A, B, x_values, y_values):\n",
    "    p = LpVariable(name=f'p({a},{b}|{x},{y})', lowBound=0, upBound=1)\n",
    "    variables[f'p({a},{b}|{x},{y})'] = p\n",
    "    expressions.append(q(x, y) * V(a, b, x, y) * p)\n",
    "\n",
    "problem += lpSum(expressions)\n",
    "\n",
    "\n",
    "# sum_{ab} p(ab|xy) = 1  for all x,y\n",
    "for (a, b) in it.product(A, B):\n",
    "    constraint_sum = []\n",
    "    for (x, y) in it.product(x_values, y_values):\n",
    "        constraint_sum.append(variables[f'p({a},{b}|{x},{y})'])\n",
    "\n",
    "    problem += lpSum(constraint_sum) == 1\n",
    "\n",
    "\n",
    "# sum_b p(ab|xy) == sum_b p(ab|xy')  for all a,x,y,y'\n",
    "for (a, x, y, y_) in it.product(A, x_values, y_values, y_values):\n",
    "    if y == y_:\n",
    "        continue\n",
    "\n",
    "    # sum_b p(ab|xy)\n",
    "    sum1 = []\n",
    "    # sum_b p(ab|xy')\n",
    "    sum2 = []\n",
    "\n",
    "    for b in B:\n",
    "        sum1.append(variables[f'p({a},{b}|{x},{y})'])\n",
    "        sum2.append(variables[f'p({a},{b}|{x},{y_})'])\n",
    "\n",
    "    problem += lpSum(sum1) == lpSum(sum2)\n",
    "\n",
    "\n",
    "# sum_a p(ab|xy) == sum_a p(ab|x'y)  for all b,x,x',y\n",
    "for (b, x, x_, y) in it.product(B, x_values, x_values, y_values):\n",
    "    if x == x_:\n",
    "        continue\n",
    "\n",
    "    # sum_a p(ab|xy)\n",
    "    sum1 = []\n",
    "    # sum_a p(ab|x'y)\n",
    "    sum2 = []\n",
    "\n",
    "    for a in A:\n",
    "        sum1.append(variables[f'p({a},{b}|{x},{y})'])\n",
    "        sum2.append(variables[f'p({a},{b}|{x_},{y})'])\n",
    "\n",
    "    problem += lpSum(sum1) == lpSum(sum2)\n",
    "\n",
    "\n",
    "\n",
    "status = problem.solve()\n",
    "print(LpStatus[status])\n",
    "\n",
    "for k, v in variables.items():\n",
    "    print(f'{k} = {value(v)}')\n",
    "\n",
    "print('sum =', value(lpSum(expressions)))"
   ]
  }
 ],
 "metadata": {
  "kernelspec": {
   "display_name": "Python 3 (ipykernel)",
   "language": "python",
   "name": "python3"
  },
  "language_info": {
   "codemirror_mode": {
    "name": "ipython",
    "version": 3
   },
   "file_extension": ".py",
   "mimetype": "text/x-python",
   "name": "python",
   "nbconvert_exporter": "python",
   "pygments_lexer": "ipython3",
   "version": "3.9.5"
  }
 },
 "nbformat": 4,
 "nbformat_minor": 1
}
