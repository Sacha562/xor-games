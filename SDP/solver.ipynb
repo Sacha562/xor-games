{
 "cells": [
  {
   "cell_type": "code",
   "execution_count": 1,
   "metadata": {
    "collapsed": true,
    "ExecuteTime": {
     "end_time": "2023-06-08T10:08:49.104360100Z",
     "start_time": "2023-06-08T10:08:48.728276400Z"
    }
   },
   "outputs": [],
   "source": [
    "import numpy as np\n",
    "import cvxpy as cp\n",
    "from tabulate import tabulate\n",
    "\n",
    "BitString = list[int]\n",
    "\n",
    "# Set the possible values of each bit: {0, 1}\n",
    "a_range = b_range = x_range = y_range = range(2)\n",
    "\n",
    "def generate_bitstrings(n: int) -> list[BitString]:\n",
    "    \"\"\"\n",
    "    Function that generates all possible bitstrings of length n.\n",
    "    \"\"\"\n",
    "    if n == 0:\n",
    "        return [[]]\n",
    "    else:\n",
    "        previous_bitstrings = generate_bitstrings(n - 1)\n",
    "        current_bitstrings = []\n",
    "        for bitstring in previous_bitstrings:\n",
    "            current_bitstrings.append(bitstring + [0])\n",
    "            current_bitstrings.append(bitstring + [1])\n",
    "        return current_bitstrings"
   ]
  },
  {
   "cell_type": "markdown",
   "source": [
    "Here, the bitstring lengths that Alice and Bob receive can be set. $x=x\\_range^n$ is for Alice, $y=y\\_range^m$ is for Bob."
   ],
   "metadata": {
    "collapsed": false
   }
  },
  {
   "cell_type": "code",
   "execution_count": 2,
   "outputs": [],
   "source": [
    "# These variables may be changed\n",
    "n = 2\n",
    "m = 2\n",
    "\n",
    "# These variables shouldn't be changed\n",
    "# Generates all possible bitstrings for x and y\n",
    "x_values = generate_bitstrings(n)\n",
    "y_values = generate_bitstrings(m)"
   ],
   "metadata": {
    "collapsed": false,
    "ExecuteTime": {
     "end_time": "2023-06-08T10:08:49.107361300Z",
     "start_time": "2023-06-08T10:08:49.105359900Z"
    }
   }
  },
  {
   "cell_type": "markdown",
   "source": [
    "$q(x,y)$ is the distribution function, which returns the probability of Alice receiving $x$ and Bob receiving $y$. For a uniform distribution, `q_uniform` can be called."
   ],
   "metadata": {
    "collapsed": false
   }
  },
  {
   "cell_type": "code",
   "execution_count": 3,
   "outputs": [],
   "source": [
    "def q_uniform():\n",
    "    x_possibilities = len(x_values)\n",
    "    y_possibilities = len(y_values)\n",
    "\n",
    "    return 1 / (x_possibilities * y_possibilities)\n",
    "\n",
    "# This function may be changed\n",
    "def q(x: BitString, y: BitString):\n",
    "    return q_uniform()"
   ],
   "metadata": {
    "collapsed": false,
    "ExecuteTime": {
     "end_time": "2023-06-08T10:08:49.118363700Z",
     "start_time": "2023-06-08T10:08:49.107361300Z"
    }
   }
  },
  {
   "cell_type": "markdown",
   "source": [
    "Alice and Bob win the game when $a \\oplus b = f(x,y)$.\n",
    "$f(x,y)$ can be set here."
   ],
   "metadata": {
    "collapsed": false
   }
  },
  {
   "cell_type": "code",
   "execution_count": 4,
   "outputs": [],
   "source": [
    "# This function may be changed\n",
    "def f(x: BitString, y: BitString):\n",
    "    return (x[0] * x[1]) * (y[0] * y[1])"
   ],
   "metadata": {
    "collapsed": false,
    "ExecuteTime": {
     "end_time": "2023-06-08T10:08:49.140367700Z",
     "start_time": "2023-06-08T10:08:49.120363800Z"
    }
   }
  },
  {
   "cell_type": "markdown",
   "source": [
    "We rewrite the calculation of the entangled bias:\n",
    "\n",
    "$$\\varepsilon^*(G) = \\sum_{xy} q(x,y)(-1)^{f(x,y)}\\langle \\Psi | A_x \\otimes B_y | \\Psi \\rangle$$\n",
    "$$\\varepsilon^*(G) = \\langle D, M \\rangle$$\n",
    "\n",
    "where\n",
    "$$D(x,y)=q(x,y)(-1)^{f(x,y)$$\n",
    "and\n",
    "$$M(x,y)=\\langle \\Psi | A_x \\otimes B_y | \\Psi \\rangle$$\n",
    "\n",
    "We will create the matrix $D$ here. $M$ is the matrix we want to optimize."
   ],
   "metadata": {
    "collapsed": false
   }
  },
  {
   "cell_type": "code",
   "execution_count": 5,
   "outputs": [
    {
     "name": "stdout",
     "output_type": "stream",
     "text": [
      "[[ 0.0625  0.0625  0.0625  0.0625]\n",
      " [ 0.0625  0.0625  0.0625  0.0625]\n",
      " [ 0.0625  0.0625  0.0625  0.0625]\n",
      " [ 0.0625  0.0625  0.0625 -0.0625]]\n"
     ]
    }
   ],
   "source": [
    "# This shouldn't be changed\n",
    "def D_constructor(x: BitString, y: BitString):\n",
    "    return q(x, y) * ((-1) ** f(x, y))\n",
    "\n",
    "D = np.matrix([[D_constructor(x, y) for y in y_values] for x in x_values])\n",
    "print(D)"
   ],
   "metadata": {
    "collapsed": false,
    "ExecuteTime": {
     "end_time": "2023-06-08T10:08:49.144368600Z",
     "start_time": "2023-06-08T10:08:49.130366100Z"
    }
   }
  },
  {
   "cell_type": "markdown",
   "source": [
    "Here we start defining the semidefinite program. We start by creating the variables that need to be optimized.\n",
    "\n",
    "From Tsirelson's theorem, remember\n",
    "\n",
    "$$Z=\\begin{pmatrix}\n",
    "            R & M \\\\\n",
    "            M^* & S\n",
    "        \\end{pmatrix}\n",
    "        \\geq 0$$\n",
    "where the diagonal entries of $R$ and $S$ are 1."
   ],
   "metadata": {
    "collapsed": false
   }
  },
  {
   "cell_type": "code",
   "execution_count": 6,
   "outputs": [],
   "source": [
    "# Define the variables of the optimization problem\n",
    "M = cp.Variable(D.shape)\n",
    "R = cp.Variable(D.shape)\n",
    "S = cp.Variable(D.shape)\n",
    "\n",
    "# Create block matrix Z\n",
    "Z = cp.bmat([[R, M], [cp.conj(M), S]])"
   ],
   "metadata": {
    "collapsed": false,
    "ExecuteTime": {
     "end_time": "2023-06-08T10:08:49.152371300Z",
     "start_time": "2023-06-08T10:08:49.143369Z"
    }
   }
  },
  {
   "cell_type": "markdown",
   "source": [
    "Now, we add the constraints to the semidefinite program."
   ],
   "metadata": {
    "collapsed": false
   }
  },
  {
   "cell_type": "code",
   "execution_count": 7,
   "outputs": [],
   "source": [
    "# Z is semidefinite\n",
    "constraints = [Z >> 0]\n",
    "\n",
    "# All diagonal entries of Z need to be 1.\n",
    "constraints += [cp.diag(Z) == np.ones(Z.shape[0])]"
   ],
   "metadata": {
    "collapsed": false,
    "ExecuteTime": {
     "end_time": "2023-06-08T10:08:49.193379700Z",
     "start_time": "2023-06-08T10:08:49.152371300Z"
    }
   }
  },
  {
   "cell_type": "markdown",
   "source": [
    "Finally, we solve the optimization problem\n",
    "\n",
    "$$\\varepsilon^*(G) = \\max \\langle D, M \\rangle$$\n",
    "under the constraints defined above. Note that\n",
    "\n",
    "$$\\max \\langle D, M \\rangle = \\max \\mathrm{Tr}(D^*M)$$"
   ],
   "metadata": {
    "collapsed": false
   }
  },
  {
   "cell_type": "code",
   "execution_count": 10,
   "outputs": [
    {
     "name": "stdout",
     "output_type": "stream",
     "text": [
      "The optimal entangled bias is 0.8750000001551562\n",
      "The entangled value is 0.9375000000775782\n"
     ]
    }
   ],
   "source": [
    "problem = cp.Problem(cp.Maximize(cp.trace(cp.conj(D) @ M)),\n",
    "                     constraints)\n",
    "problem.solve()\n",
    "\n",
    "# Print results.\n",
    "print(\"The optimal entangled bias is\", problem.value)\n",
    "print(\"The entangled value is\", 0.5 + problem.value / 2)"
   ],
   "metadata": {
    "collapsed": false,
    "ExecuteTime": {
     "end_time": "2023-06-08T10:09:33.810381Z",
     "start_time": "2023-06-08T10:09:33.798378700Z"
    }
   }
  },
  {
   "cell_type": "markdown",
   "source": [
    "We can also print the (now optimized) matrix $Z$."
   ],
   "metadata": {
    "collapsed": false
   }
  },
  {
   "cell_type": "code",
   "execution_count": 9,
   "outputs": [
    {
     "name": "stdout",
     "output_type": "stream",
     "text": [
      "┌───┬───┬───┬───┬───┬───┬───┬───┐\n",
      "│ 1 │ 1 │ 1 │ 1 │ 1 │ 1 │ 1 │ 1 │\n",
      "├───┼───┼───┼───┼───┼───┼───┼───┤\n",
      "│ 1 │ 1 │ 1 │ 1 │ 1 │ 1 │ 1 │ 1 │\n",
      "├───┼───┼───┼───┼───┼───┼───┼───┤\n",
      "│ 1 │ 1 │ 1 │ 1 │ 1 │ 1 │ 1 │ 1 │\n",
      "├───┼───┼───┼───┼───┼───┼───┼───┤\n",
      "│ 1 │ 1 │ 1 │ 1 │ 1 │ 1 │ 1 │ 1 │\n",
      "├───┼───┼───┼───┼───┼───┼───┼───┤\n",
      "│ 1 │ 1 │ 1 │ 1 │ 1 │ 1 │ 1 │ 1 │\n",
      "├───┼───┼───┼───┼───┼───┼───┼───┤\n",
      "│ 1 │ 1 │ 1 │ 1 │ 1 │ 1 │ 1 │ 1 │\n",
      "├───┼───┼───┼───┼───┼───┼───┼───┤\n",
      "│ 1 │ 1 │ 1 │ 1 │ 1 │ 1 │ 1 │ 1 │\n",
      "├───┼───┼───┼───┼───┼───┼───┼───┤\n",
      "│ 1 │ 1 │ 1 │ 1 │ 1 │ 1 │ 1 │ 1 │\n",
      "└───┴───┴───┴───┴───┴───┴───┴───┘\n"
     ]
    }
   ],
   "source": [
    "table = tabulate(Z.value, tablefmt=\"simple_grid\")\n",
    "print(table)"
   ],
   "metadata": {
    "collapsed": false,
    "ExecuteTime": {
     "end_time": "2023-06-08T10:08:49.196380400Z",
     "start_time": "2023-06-08T10:08:49.184377900Z"
    }
   }
  }
 ],
 "metadata": {
  "kernelspec": {
   "display_name": "Python 3",
   "language": "python",
   "name": "python3"
  },
  "language_info": {
   "codemirror_mode": {
    "name": "ipython",
    "version": 2
   },
   "file_extension": ".py",
   "mimetype": "text/x-python",
   "name": "python",
   "nbconvert_exporter": "python",
   "pygments_lexer": "ipython2",
   "version": "2.7.6"
  }
 },
 "nbformat": 4,
 "nbformat_minor": 0
}
