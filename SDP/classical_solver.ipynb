{
 "cells": [
  {
   "cell_type": "code",
   "execution_count": 2,
   "metadata": {
    "collapsed": true,
    "ExecuteTime": {
     "end_time": "2023-06-09T14:20:52.762906700Z",
     "start_time": "2023-06-09T14:20:52.709188100Z"
    }
   },
   "outputs": [
    {
     "ename": "TypeError",
     "evalue": "'type' object is not subscriptable",
     "output_type": "error",
     "traceback": [
      "\u001B[1;31m---------------------------------------------------------------------------\u001B[0m",
      "\u001B[1;31mTypeError\u001B[0m                                 Traceback (most recent call last)",
      "\u001B[1;32m~\\AppData\\Local\\Temp\\ipykernel_6708\\3594708230.py\u001B[0m in \u001B[0;36m<module>\u001B[1;34m\u001B[0m\n\u001B[0;32m      3\u001B[0m \u001B[1;32mfrom\u001B[0m \u001B[0mtabulate\u001B[0m \u001B[1;32mimport\u001B[0m \u001B[0mtabulate\u001B[0m\u001B[1;33m\u001B[0m\u001B[1;33m\u001B[0m\u001B[0m\n\u001B[0;32m      4\u001B[0m \u001B[1;33m\u001B[0m\u001B[0m\n\u001B[1;32m----> 5\u001B[1;33m \u001B[0mBitString\u001B[0m \u001B[1;33m=\u001B[0m \u001B[0mlist\u001B[0m\u001B[1;33m[\u001B[0m\u001B[0mint\u001B[0m\u001B[1;33m]\u001B[0m\u001B[1;33m\u001B[0m\u001B[1;33m\u001B[0m\u001B[0m\n\u001B[0m\u001B[0;32m      6\u001B[0m \u001B[1;33m\u001B[0m\u001B[0m\n\u001B[0;32m      7\u001B[0m \u001B[1;31m# Set the possible values of each bit: {0, 1}\u001B[0m\u001B[1;33m\u001B[0m\u001B[1;33m\u001B[0m\u001B[1;33m\u001B[0m\u001B[0m\n",
      "\u001B[1;31mTypeError\u001B[0m: 'type' object is not subscriptable"
     ]
    }
   ],
   "source": [
    "import numpy as np\n",
    "import cvxpy as cp\n",
    "from tabulate import tabulate\n",
    "\n",
    "BitString = list[int]\n",
    "\n",
    "# Set the possible values of each bit: {0, 1}\n",
    "a_range = b_range = x_range = y_range = range(2)\n",
    "\n",
    "\n",
    "def generate_bitstrings(n: int) -> list[BitString]:\n",
    "    \"\"\"\n",
    "    Function that generates all possible bitstrings of length n.\n",
    "    \"\"\"\n",
    "    if n == 0:\n",
    "        return [[]]\n",
    "    else:\n",
    "        previous_bitstrings = generate_bitstrings(n - 1)\n",
    "        current_bitstrings = []\n",
    "        for bitstring in previous_bitstrings:\n",
    "            current_bitstrings.append(bitstring + [0])\n",
    "            current_bitstrings.append(bitstring + [1])\n",
    "        return current_bitstrings"
   ]
  },
  {
   "cell_type": "markdown",
   "source": [
    "Here, the bitstring lengths that Alice and Bob receive can be set. $x=x\\_range^n$ is for Alice, $y=y\\_range^m$ is for Bob."
   ],
   "metadata": {
    "collapsed": false
   }
  },
  {
   "cell_type": "code",
   "execution_count": null,
   "outputs": [],
   "source": [
    "# These variables may be changed\n",
    "m = 3\n",
    "n = 3\n",
    "\n",
    "# These variables shouldn't be changed\n",
    "# Generates all possible bitstrings for x and y\n",
    "x_values = generate_bitstrings(m)\n",
    "y_values = generate_bitstrings(n)"
   ],
   "metadata": {
    "collapsed": false,
    "ExecuteTime": {
     "start_time": "2023-06-09T14:20:52.745388300Z"
    }
   }
  },
  {
   "cell_type": "markdown",
   "source": [
    "$q(x,y)$ is the distribution function, which returns the probability of Alice receiving $x$ and Bob receiving $y$. For a uniform distribution, `q_uniform` can be called."
   ],
   "metadata": {
    "collapsed": false
   }
  },
  {
   "cell_type": "code",
   "execution_count": null,
   "outputs": [],
   "source": [
    "def q_uniform():\n",
    "    x_possibilities = len(x_values)\n",
    "    y_possibilities = len(y_values)\n",
    "\n",
    "    return 1 / (x_possibilities * y_possibilities)\n",
    "\n",
    "\n",
    "# This function may be changed\n",
    "def q(x: BitString, y: BitString):\n",
    "    return q_uniform()"
   ],
   "metadata": {
    "collapsed": false,
    "ExecuteTime": {
     "start_time": "2023-06-09T14:20:52.748641200Z"
    }
   }
  },
  {
   "cell_type": "markdown",
   "source": [
    "Alice and Bob win the game when $a \\oplus b = f(x,y)$.\n",
    "$f(x,y)$ can be set here."
   ],
   "metadata": {
    "collapsed": false
   }
  },
  {
   "cell_type": "code",
   "execution_count": null,
   "outputs": [],
   "source": [
    "# This function may be changed\n",
    "def f(x: BitString, y: BitString):\n",
    "    return  (y[0] * x[0]) ^ (y[1] * x[1]) ^ (y[2] * x[2])\n",
    "\n",
    "\n",
    "# This function shouldn't be changed\n",
    "def V(a: int, b: int, x: BitString, y: BitString):\n",
    "    return a ^ b == f(x, y)"
   ],
   "metadata": {
    "collapsed": false,
    "ExecuteTime": {
     "start_time": "2023-06-09T14:20:52.750849400Z"
    }
   }
  },
  {
   "cell_type": "markdown",
   "source": [
    "We want to optimize the following problem\n",
    "\n",
    "\\begin{equation}\n",
    "    \\omega(G) = \\max \\sum_{xy} q(x,y) \\sum_{ab} V(a,b\\,|\\,x,y) \\cdot p(a, b\\,|\\,x, y)\n",
    "\\end{equation}\n",
    "\n",
    "We are going to brute-force the best strategy, so we need to loop over all possible values of $p(a, b|x, y)$.\n",
    "\n",
    "Note that we need to loop over $2^{2^m}$ strategies for Alice and $2^{2^n}$ strategies for Bob, so combined that is $2^{2^m + 2^n}$ strategies. For each strategy, we need to check every possible combination of $x, y$ ($2^m * 2^n$ combinations) and check if Alice and Bob win according to the function $V(a, b|x, y)$.\n",
    "\n",
    "In total, we need to check if a combination of $x, y, a, b$ wins $2^{2^m+2^n+m+n}$ times."
   ],
   "metadata": {
    "collapsed": false
   }
  },
  {
   "cell_type": "code",
   "execution_count": null,
   "outputs": [],
   "source": [
    "def create_strategies_shape(bit_possibilities, bitstring_length):\n",
    "    shape = [-1]\n",
    "    for _ in range(bitstring_length):\n",
    "        shape.append(bit_possibilities)\n",
    "\n",
    "    return shape\n",
    "\n",
    "\n",
    "# Create possible strategies\n",
    "strategies_A = np.array(generate_bitstrings(len(x_range) ** m)).reshape(*create_strategies_shape(len(x_range), m))\n",
    "strategies_B = np.array(generate_bitstrings(len(y_range) ** n)).reshape(*create_strategies_shape(len(y_range), n))\n",
    "\n",
    "# Keep track of the best strategy up till now\n",
    "best_strategy = None\n",
    "best_value = 0\n",
    "\n",
    "for strategy_A in strategies_A:\n",
    "    for strategy_B in strategies_B:\n",
    "        # Calculate the winning probability for this strategy, according to the formula above.\n",
    "        sum = 0\n",
    "        for x in x_values:\n",
    "            for y in y_values:\n",
    "                prob = q(x, y)\n",
    "                a = strategy_A[(*x,)]\n",
    "                b = strategy_B[(*y,)]\n",
    "                sum += prob * V(a, b, x, y)\n",
    "\n",
    "        if sum > best_value:\n",
    "            best_value = sum\n",
    "            best_strategy = {'A': strategy_A, 'B': strategy_B}\n",
    "\n",
    "print('Maximal winning probability:', best_value)\n",
    "print('Best strategy:')\n",
    "print('Alice:', best_strategy['A'])\n",
    "print('Bob:', best_strategy['B'])"
   ],
   "metadata": {
    "collapsed": false,
    "ExecuteTime": {
     "start_time": "2023-06-09T14:20:52.752954400Z"
    }
   }
  }
 ],
 "metadata": {
  "kernelspec": {
   "display_name": "Python 3",
   "language": "python",
   "name": "python3"
  },
  "language_info": {
   "codemirror_mode": {
    "name": "ipython",
    "version": 2
   },
   "file_extension": ".py",
   "mimetype": "text/x-python",
   "name": "python",
   "nbconvert_exporter": "python",
   "pygments_lexer": "ipython2",
   "version": "2.7.6"
  }
 },
 "nbformat": 4,
 "nbformat_minor": 0
}
