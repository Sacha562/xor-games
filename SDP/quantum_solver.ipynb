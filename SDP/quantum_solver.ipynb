{
 "cells": [
  {
   "cell_type": "code",
   "execution_count": 10,
   "metadata": {
    "ExecuteTime": {
     "end_time": "2023-06-09T18:24:50.421844Z",
     "start_time": "2023-06-09T18:24:50.396837800Z"
    }
   },
   "outputs": [],
   "source": [
    "import numpy as np\n",
    "import cvxpy as cp\n",
    "from tabulate import tabulate\n",
    "\n",
    "# Set the possible values of each bit: {0, 1}\n",
    "a_range = b_range = x_range = y_range = range(2)\n",
    "\n",
    "def generate_bitstrings(n: int) -> list:\n",
    "    \"\"\"\n",
    "    Function that generates all possible bitstrings of length n.\n",
    "    \"\"\"\n",
    "    if n == 0:\n",
    "        return [[]]\n",
    "    else:\n",
    "        previous_bitstrings = generate_bitstrings(n - 1)\n",
    "        current_bitstrings = []\n",
    "        for bitstring in previous_bitstrings:\n",
    "            current_bitstrings.append(bitstring + [0])\n",
    "            current_bitstrings.append(bitstring + [1])\n",
    "        return current_bitstrings"
   ]
  },
  {
   "cell_type": "markdown",
   "metadata": {},
   "source": [
    "Here, the bitstring lengths that Alice and Bob receive can be set. $x=x\\_range^m$ is for Alice, $y=y\\_range^n$ is for Bob."
   ]
  },
  {
   "cell_type": "code",
   "execution_count": 11,
   "metadata": {
    "ExecuteTime": {
     "end_time": "2023-06-09T18:24:50.422844400Z",
     "start_time": "2023-06-09T18:24:50.399839500Z"
    }
   },
   "outputs": [],
   "source": [
    "# These variables may be changed\n",
    "m = 1\n",
    "n = 1\n",
    "\n",
    "# These variables shouldn't be changed\n",
    "# Generates all possible bitstrings for x and y\n",
    "x_values = generate_bitstrings(m)\n",
    "y_values = generate_bitstrings(n)"
   ]
  },
  {
   "cell_type": "markdown",
   "metadata": {},
   "source": [
    "$q(x,y)$ is the distribution function, which returns the probability of Alice receiving $x$ and Bob receiving $y$. For a uniform distribution, `q_uniform` can be called."
   ]
  },
  {
   "cell_type": "code",
   "execution_count": 12,
   "metadata": {
    "ExecuteTime": {
     "end_time": "2023-06-09T18:24:50.440847700Z",
     "start_time": "2023-06-09T18:24:50.409841900Z"
    }
   },
   "outputs": [],
   "source": [
    "def q_uniform():\n",
    "    x_possibilities = len(x_values)\n",
    "    y_possibilities = len(y_values)\n",
    "\n",
    "    return 1 / (x_possibilities * y_possibilities)\n",
    "\n",
    "# This function may be changed\n",
    "def q(x: list, y: list):\n",
    "    \"\"\"\n",
    "    :param x: Bitstring x (Alice). A list of integers.\n",
    "    :param y: Bitstring y (Bob). A list of integers.\n",
    "    :return: A user-specified probability\n",
    "    \"\"\"\n",
    "    return q_uniform()"
   ]
  },
  {
   "cell_type": "markdown",
   "metadata": {},
   "source": [
    "Alice and Bob win the game when $a \\oplus b = f(x,y)$.\n",
    "$f(x,y)$ can be set here."
   ]
  },
  {
   "cell_type": "code",
   "execution_count": 13,
   "metadata": {
    "ExecuteTime": {
     "end_time": "2023-06-09T18:24:50.440847700Z",
     "start_time": "2023-06-09T18:24:50.420843100Z"
    }
   },
   "outputs": [],
   "source": [
    "# This function may be changed\n",
    "def f(x: list, y: list):\n",
    "    \"\"\"\n",
    "    :param x: Bitstring x (Alice). A list of integers.\n",
    "    :param y: Bitstring y (Bob). A list of integers.\n",
    "    \"\"\"\n",
    "    return x[0] * y[0]"
   ]
  },
  {
   "cell_type": "markdown",
   "metadata": {},
   "source": [
    "We rewrite the calculation of the entangled bias:\n",
    "\n",
    "$$\\varepsilon^*(G) = \\sum_{xy} q(x,y)(-1)^{f(x,y)}\\langle \\Psi | A_x \\otimes B_y | \\Psi \\rangle$$\n",
    "$$\\varepsilon^*(G) = \\langle D, M \\rangle$$\n",
    "\n",
    "where\n",
    "$$D(x,y)=q(x,y)(-1)^{f(x,y)}$$\n",
    "and\n",
    "$$M(x,y)=\\langle \\Psi | A_x \\otimes B_y | \\Psi \\rangle$$\n",
    "\n",
    "We will create the matrix $D$ here. $M$ is the matrix we want to optimize."
   ]
  },
  {
   "cell_type": "code",
   "execution_count": 14,
   "metadata": {
    "ExecuteTime": {
     "end_time": "2023-06-09T18:24:50.441848900Z",
     "start_time": "2023-06-09T18:24:50.430846300Z"
    }
   },
   "outputs": [
    {
     "name": "stdout",
     "output_type": "stream",
     "text": [
      "[[ 0.25  0.25]\n",
      " [ 0.25 -0.25]]\n"
     ]
    }
   ],
   "source": [
    "# This shouldn't be changed\n",
    "def D_constructor(x: list, y: list):\n",
    "    \"\"\"\n",
    "    :param x: Bitstring x (Alice). A list of integers.\n",
    "    :param y: Bitstring y (Bob). A list of integers.\n",
    "    \"\"\"\n",
    "    return q(x, y) * ((-1) ** f(x, y))\n",
    "\n",
    "D = np.matrix([[D_constructor(x, y) for y in y_values] for x in x_values])\n",
    "print(D)"
   ]
  },
  {
   "cell_type": "markdown",
   "metadata": {},
   "source": [
    "Here we start defining the semidefinite program. We start by creating the variables that need to be optimized.\n",
    "\n",
    "From Tsirelson's theorem, remember\n",
    "\n",
    "$$Z=\\begin{pmatrix}\n",
    "            R & M \\\\\n",
    "            M^\\dagger & S\n",
    "        \\end{pmatrix}\n",
    "        \\geq 0$$\n",
    "where the diagonal entries of $R$ and $S$ are 1."
   ]
  },
  {
   "cell_type": "code",
   "execution_count": 15,
   "metadata": {
    "ExecuteTime": {
     "end_time": "2023-06-09T18:24:50.450850500Z",
     "start_time": "2023-06-09T18:24:50.439848900Z"
    }
   },
   "outputs": [],
   "source": [
    "# Define the variables of the optimization problem\n",
    "M = cp.Variable(D.shape)\n",
    "R = cp.Variable((len(x_values), len(x_values)))\n",
    "S = cp.Variable((len(y_values), len(y_values)))\n",
    "\n",
    "# Create block matrix Z\n",
    "Z = cp.bmat([[R, M], [cp.conj(M).T, S]])"
   ]
  },
  {
   "cell_type": "markdown",
   "metadata": {},
   "source": [
    "Now, we add the constraints to the semidefinite program."
   ]
  },
  {
   "cell_type": "code",
   "execution_count": 16,
   "metadata": {
    "ExecuteTime": {
     "end_time": "2023-06-09T18:24:50.460853400Z",
     "start_time": "2023-06-09T18:24:50.451851400Z"
    }
   },
   "outputs": [],
   "source": [
    "# Z is semidefinite\n",
    "constraints = [Z >> 0]\n",
    "\n",
    "# All diagonal entries of Z need to be 1.\n",
    "constraints += [cp.diag(Z) == np.ones(Z.shape[0])]"
   ]
  },
  {
   "cell_type": "markdown",
   "metadata": {},
   "source": [
    "Finally, we solve the optimization problem\n",
    "\n",
    "$$\\varepsilon^*(G) = \\max \\langle D, M \\rangle$$\n",
    "under the constraints defined above. Note that\n",
    "\n",
    "$$\\max \\langle D, M \\rangle = \\max \\mathrm{Tr}(D^\\dagger M)$$"
   ]
  },
  {
   "cell_type": "code",
   "execution_count": 17,
   "metadata": {
    "ExecuteTime": {
     "end_time": "2023-06-09T18:24:50.492859300Z",
     "start_time": "2023-06-09T18:24:50.460853400Z"
    }
   },
   "outputs": [
    {
     "name": "stdout",
     "output_type": "stream",
     "text": [
      "The optimal entangled bias is 0.7071084544426541\n",
      "The entangled value is 0.853554227221327\n"
     ]
    }
   ],
   "source": [
    "problem = cp.Problem(cp.Maximize(cp.trace(cp.conj(D).T @ M)),\n",
    "                     constraints)\n",
    "problem.solve()\n",
    "\n",
    "# Print results.\n",
    "print(\"The optimal entangled bias is\", problem.value)\n",
    "print(\"The entangled value is\", 0.5 + problem.value / 2)"
   ]
  },
  {
   "cell_type": "markdown",
   "metadata": {},
   "source": [
    "We can also print the (now optimized) matrix $Z$."
   ]
  },
  {
   "cell_type": "code",
   "execution_count": 18,
   "metadata": {
    "ExecuteTime": {
     "end_time": "2023-06-09T18:24:50.492859300Z",
     "start_time": "2023-06-09T18:24:50.485858500Z"
    }
   },
   "outputs": [
    {
     "name": "stdout",
     "output_type": "stream",
     "text": [
      "┌──────────────┬──────────────┬──────────────┬──────────────┐\n",
      "│  1           │ -1.94521e-15 │  0.707108    │  0.707108    │\n",
      "├──────────────┼──────────────┼──────────────┼──────────────┤\n",
      "│ -1.94521e-15 │  1           │  0.707108    │ -0.707108    │\n",
      "├──────────────┼──────────────┼──────────────┼──────────────┤\n",
      "│  0.707108    │  0.707108    │  1           │ -8.19023e-16 │\n",
      "├──────────────┼──────────────┼──────────────┼──────────────┤\n",
      "│  0.707108    │ -0.707108    │ -8.19023e-16 │  1           │\n",
      "└──────────────┴──────────────┴──────────────┴──────────────┘\n"
     ]
    }
   ],
   "source": [
    "table = tabulate(Z.value, tablefmt=\"simple_grid\")\n",
    "print(table)"
   ]
  }
 ],
 "metadata": {
  "kernelspec": {
   "display_name": "Python 3 (ipykernel)",
   "language": "python",
   "name": "python3"
  },
  "language_info": {
   "codemirror_mode": {
    "name": "ipython",
    "version": 3
   },
   "file_extension": ".py",
   "mimetype": "text/x-python",
   "name": "python",
   "nbconvert_exporter": "python",
   "pygments_lexer": "ipython3",
   "version": "3.9.5"
  }
 },
 "nbformat": 4,
 "nbformat_minor": 1
}
