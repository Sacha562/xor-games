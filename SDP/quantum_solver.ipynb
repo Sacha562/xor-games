{
 "cells": [
  {
   "cell_type": "code",
   "execution_count": 58,
   "metadata": {
    "ExecuteTime": {
     "end_time": "2023-06-22T09:45:13.533575300Z",
     "start_time": "2023-06-22T09:45:13.488565200Z"
    }
   },
   "outputs": [],
   "source": [
    "import numpy as np\n",
    "import cvxpy as cp\n",
    "import scipy as sp\n",
    "from tabulate import tabulate\n",
    "\n",
    "# Set the possible values of each bit: {0, 1}\n",
    "a_range = b_range = x_range = y_range = range(2)\n",
    "\n",
    "\n",
    "def generate_bitstrings(n: int) -> list:\n",
    "    \"\"\"\n",
    "    Function that generates all possible bitstrings of length n.\n",
    "    \"\"\"\n",
    "    if n == 0:\n",
    "        return [[]]\n",
    "    else:\n",
    "        previous_bitstrings = generate_bitstrings(n - 1)\n",
    "        current_bitstrings = []\n",
    "        for bitstring in previous_bitstrings:\n",
    "            current_bitstrings.append(bitstring + [0])\n",
    "            current_bitstrings.append(bitstring + [1])\n",
    "        return current_bitstrings"
   ]
  },
  {
   "cell_type": "markdown",
   "metadata": {},
   "source": [
    "Here, the bitstring lengths that Alice and Bob receive can be set. $x=x\\_range^m$ is for Alice, $y=y\\_range^n$ is for Bob."
   ]
  },
  {
   "cell_type": "code",
   "execution_count": 59,
   "metadata": {
    "ExecuteTime": {
     "end_time": "2023-06-22T09:45:13.534575200Z",
     "start_time": "2023-06-22T09:45:13.492565900Z"
    }
   },
   "outputs": [],
   "source": [
    "# These variables may be changed\n",
    "m = 1\n",
    "n = 1\n",
    "\n",
    "# These variables shouldn't be changed\n",
    "# Generates all possible bitstrings for x and y\n",
    "x_values = generate_bitstrings(m)\n",
    "y_values = generate_bitstrings(n)"
   ]
  },
  {
   "cell_type": "markdown",
   "metadata": {},
   "source": [
    "$q(x,y)$ is the distribution function, which returns the probability of Alice receiving $x$ and Bob receiving $y$. For a uniform distribution, `q_uniform` can be called."
   ]
  },
  {
   "cell_type": "code",
   "execution_count": 60,
   "metadata": {
    "ExecuteTime": {
     "end_time": "2023-06-22T09:45:13.561581600Z",
     "start_time": "2023-06-22T09:45:13.505568900Z"
    }
   },
   "outputs": [],
   "source": [
    "def q_uniform():\n",
    "    x_possibilities = len(x_values)\n",
    "    y_possibilities = len(y_values)\n",
    "\n",
    "    return 1 / (x_possibilities * y_possibilities)\n",
    "\n",
    "\n",
    "# This function may be changed\n",
    "def q(x: list, y: list):\n",
    "    \"\"\"\n",
    "    :param x: Bitstring x (Alice). A list of integers.\n",
    "    :param y: Bitstring y (Bob). A list of integers.\n",
    "    :return: A user-specified probability\n",
    "    \"\"\"\n",
    "    return q_uniform()"
   ]
  },
  {
   "cell_type": "markdown",
   "metadata": {},
   "source": [
    "Alice and Bob win the game when $a \\oplus b = f(x,y)$.\n",
    "$f(x,y)$ can be set here."
   ]
  },
  {
   "cell_type": "code",
   "execution_count": 61,
   "metadata": {
    "ExecuteTime": {
     "end_time": "2023-06-22T09:45:13.562580800Z",
     "start_time": "2023-06-22T09:45:13.513570700Z"
    }
   },
   "outputs": [],
   "source": [
    "# This function may be changed\n",
    "def f(x: list, y: list):\n",
    "    \"\"\"\n",
    "    :param x: Bitstring x (Alice). A list of integers.\n",
    "    :param y: Bitstring y (Bob). A list of integers.\n",
    "    \"\"\"\n",
    "    return x[0] * y[0]"
   ]
  },
  {
   "cell_type": "markdown",
   "metadata": {},
   "source": [
    "We rewrite the calculation of the entangled bias:\n",
    "\n",
    "$$\\varepsilon^*(G) = \\sum_{xy} q(x,y)(-1)^{f(x,y)}\\langle \\Psi | A_x \\otimes B_y | \\Psi \\rangle$$\n",
    "$$\\varepsilon^*(G) = \\langle D, M \\rangle$$\n",
    "\n",
    "where\n",
    "$$D(x,y)=q(x,y)(-1)^{f(x,y)}$$\n",
    "and\n",
    "$$M(x,y)=\\langle \\Psi | A_x \\otimes B_y | \\Psi \\rangle$$\n",
    "\n",
    "We will create the matrix $D$ here. $M$ is the matrix we want to optimize."
   ]
  },
  {
   "cell_type": "code",
   "execution_count": 62,
   "metadata": {
    "ExecuteTime": {
     "end_time": "2023-06-22T09:45:13.563582Z",
     "start_time": "2023-06-22T09:45:13.526573500Z"
    }
   },
   "outputs": [
    {
     "name": "stdout",
     "output_type": "stream",
     "text": [
      "[[ 0.25  0.25]\n",
      " [ 0.25 -0.25]]\n"
     ]
    }
   ],
   "source": [
    "# This shouldn't be changed\n",
    "def D_constructor(x: list, y: list):\n",
    "    \"\"\"\n",
    "    :param x: Bitstring x (Alice). A list of integers.\n",
    "    :param y: Bitstring y (Bob). A list of integers.\n",
    "    \"\"\"\n",
    "    return q(x, y) * ((-1) ** f(x, y))\n",
    "\n",
    "\n",
    "D = np.matrix([[D_constructor(x, y) for y in y_values] for x in x_values])\n",
    "print(D)"
   ]
  },
  {
   "cell_type": "markdown",
   "metadata": {},
   "source": [
    "Here we start defining the semidefinite program. We start by creating the variables that need to be optimized.\n",
    "\n",
    "From Tsirelson's theorem, remember\n",
    "\n",
    "$$Z=\\begin{pmatrix}\n",
    "            R & M \\\\\n",
    "            M^\\dagger & S\n",
    "        \\end{pmatrix}\n",
    "        \\geq 0$$\n",
    "where the diagonal entries of $R$ and $S$ are 1."
   ]
  },
  {
   "cell_type": "code",
   "execution_count": 63,
   "metadata": {
    "ExecuteTime": {
     "end_time": "2023-06-22T09:45:13.563582Z",
     "start_time": "2023-06-22T09:45:13.534575200Z"
    }
   },
   "outputs": [],
   "source": [
    "# Define the variables of the optimization problem\n",
    "M = cp.Variable(D.shape)\n",
    "R = cp.Variable((len(x_values), len(x_values)))\n",
    "S = cp.Variable((len(y_values), len(y_values)))\n",
    "\n",
    "# Create block matrix Z\n",
    "Z = cp.bmat([[R, M], [cp.conj(M).T, S]])"
   ]
  },
  {
   "cell_type": "markdown",
   "metadata": {},
   "source": [
    "Now, we add the constraints to the semidefinite program."
   ]
  },
  {
   "cell_type": "code",
   "execution_count": 64,
   "metadata": {
    "ExecuteTime": {
     "end_time": "2023-06-22T09:45:13.564582100Z",
     "start_time": "2023-06-22T09:45:13.546578Z"
    }
   },
   "outputs": [],
   "source": [
    "# Z is semidefinite\n",
    "constraints = [Z >> 0]\n",
    "\n",
    "# All diagonal entries of Z need to be 1.\n",
    "constraints += [cp.diag(Z) == np.ones(Z.shape[0])]"
   ]
  },
  {
   "cell_type": "markdown",
   "metadata": {},
   "source": [
    "Finally, we solve the optimization problem\n",
    "\n",
    "$$\\varepsilon^*(G) = \\max \\langle D, M \\rangle$$\n",
    "under the constraints defined above. Note that\n",
    "\n",
    "$$\\max \\langle D, M \\rangle = \\max \\mathrm{Tr}(D^\\dagger M)$$"
   ]
  },
  {
   "cell_type": "code",
   "execution_count": 65,
   "metadata": {
    "ExecuteTime": {
     "end_time": "2023-06-22T09:45:13.576584700Z",
     "start_time": "2023-06-22T09:45:13.559580800Z"
    }
   },
   "outputs": [
    {
     "name": "stdout",
     "output_type": "stream",
     "text": [
      "The optimal entangled bias is 0.7071084544426541\n",
      "The entangled value is 0.853554227221327\n"
     ]
    }
   ],
   "source": [
    "problem = cp.Problem(cp.Maximize(cp.trace(cp.conj(D).T @ M)),\n",
    "                     constraints)\n",
    "problem.solve()\n",
    "\n",
    "# Print results.\n",
    "print(\"The optimal entangled bias is\", problem.value)\n",
    "print(\"The entangled value is\", 0.5 + problem.value / 2)"
   ]
  },
  {
   "cell_type": "markdown",
   "metadata": {},
   "source": [
    "We can also print the (now optimized) matrix $Z$."
   ]
  },
  {
   "cell_type": "code",
   "execution_count": 66,
   "metadata": {
    "ExecuteTime": {
     "end_time": "2023-06-22T09:45:13.622595Z",
     "start_time": "2023-06-22T09:45:13.576584700Z"
    }
   },
   "outputs": [
    {
     "name": "stdout",
     "output_type": "stream",
     "text": [
      "┌──────────────┬──────────────┬──────────────┬──────────────┐\n",
      "│  1           │ -1.94521e-15 │  0.707108    │  0.707108    │\n",
      "├──────────────┼──────────────┼──────────────┼──────────────┤\n",
      "│ -1.94521e-15 │  1           │  0.707108    │ -0.707108    │\n",
      "├──────────────┼──────────────┼──────────────┼──────────────┤\n",
      "│  0.707108    │  0.707108    │  1           │ -8.19023e-16 │\n",
      "├──────────────┼──────────────┼──────────────┼──────────────┤\n",
      "│  0.707108    │ -0.707108    │ -8.19023e-16 │  1           │\n",
      "└──────────────┴──────────────┴──────────────┴──────────────┘\n"
     ]
    }
   ],
   "source": [
    "table = tabulate(Z.value, tablefmt=\"simple_grid\")\n",
    "print(table)"
   ]
  },
  {
   "cell_type": "markdown",
   "source": [
    "We will now reconstruct the sets of matrices $\\{P_0^x\\}$ and $\\{Q_0^y\\}$, which are the measurements Alice and Bob make on their qubit in the computational basis. Regarding the quantum state Alice and Bob are measuring, we know that they use a maximally entangled state:\n",
    "\n",
    "$$|\\Psi\\rangle = \\frac{1}{\\sqrt{N}}\\sum_{i=0}^{N-1}|i\\rangle|i\\rangle$$\n",
    "\n",
    "The variables used in this equation can be found in the thesis in the section 'Recovering the strategy'.\n",
    "\n",
    "We start the process by finding the Gram decomposition of matrix $M$. The columns of matrix $Q$ are the vectors which we will use in the next steps, for which holds: $M = Q^T Q$."
   ],
   "metadata": {
    "collapsed": false
   }
  },
  {
   "cell_type": "code",
   "execution_count": 67,
   "outputs": [],
   "source": [
    "# Doesn't work when M isn't a square matrix\n",
    "\n",
    "M_matrix = np.matrix(M.value, dtype='complex')\n",
    "Q = np.matrix(sp.linalg.sqrtm(M_matrix))"
   ],
   "metadata": {
    "collapsed": false,
    "ExecuteTime": {
     "end_time": "2023-06-22T09:45:13.623595400Z",
     "start_time": "2023-06-22T09:45:13.586587Z"
    }
   }
  },
  {
   "cell_type": "markdown",
   "source": [
    "We pick $N$ such that $2N+1\\geq n+m$.\n",
    "The Gram decomposition of a positive semidefinite matrix $G$ is a set of real vectors $u_1, \\hdots, u_n, v_1, \\hdots, v_m$. So $m,n$ are defined differently here."
   ],
   "metadata": {
    "collapsed": false
   }
  },
  {
   "cell_type": "code",
   "execution_count": 68,
   "outputs": [],
   "source": [
    "import math\n",
    "\n",
    "N = math.ceil((Q.shape[1] * 2 - 1.0) / 2.0)"
   ],
   "metadata": {
    "collapsed": false,
    "ExecuteTime": {
     "end_time": "2023-06-22T09:45:13.623595400Z",
     "start_time": "2023-06-22T09:45:13.599590400Z"
    }
   }
  },
  {
   "cell_type": "markdown",
   "source": [
    "Now we define the Weyl-Brauer and Pauli operators."
   ],
   "metadata": {
    "collapsed": false
   }
  },
  {
   "cell_type": "code",
   "execution_count": 69,
   "outputs": [],
   "source": [
    "pauli_I = np.identity(2, dtype='complex')\n",
    "pauli_sx = np.matrix([[0, 1], [1, 0]], dtype='complex')\n",
    "pauli_sy = np.matrix([[0, complex(0, -1)], [complex(0, 1), 0]], dtype='complex')\n",
    "pauli_sz = np.matrix([[1, 0], [0, -1]])\n",
    "\n",
    "\n",
    "def wb_operator(i: int, order: int):\n",
    "    x = None\n",
    "    y = None\n",
    "    z = None\n",
    "    if i % 2 == 0:\n",
    "        k = int(i / 2)\n",
    "        if k - 1 != 0:\n",
    "            z = pauli_sz\n",
    "            for _ in range(1, k - 1):\n",
    "                z = np.kron(z, pauli_sz)\n",
    "            y = np.kron(z, pauli_sy)\n",
    "        else:\n",
    "            y = pauli_sy\n",
    "\n",
    "        for _ in range(0, order - k):\n",
    "            y = np.kron(y, pauli_I)\n",
    "        return y\n",
    "\n",
    "    elif i == 2 * order + 1:\n",
    "        z = pauli_sz\n",
    "        for _ in range(1, order):\n",
    "            z = np.kron(z, pauli_sz)\n",
    "        return z\n",
    "\n",
    "    else:\n",
    "        k = int((i + 1) / 2)\n",
    "        if k - 1 != 0:\n",
    "            z = pauli_sz\n",
    "            for _ in range(1, k - 1):\n",
    "                z = np.kron(z, pauli_sz)\n",
    "            x = np.kron(z, pauli_sy)\n",
    "        else:\n",
    "            x = pauli_sy\n",
    "        for _ in range(0, order - k):\n",
    "            x = np.kron(x, pauli_I)\n",
    "        return x\n"
   ],
   "metadata": {
    "collapsed": false,
    "ExecuteTime": {
     "end_time": "2023-06-22T09:45:13.623595400Z",
     "start_time": "2023-06-22T09:45:13.616593800Z"
    }
   }
  },
  {
   "cell_type": "markdown",
   "source": [
    "We can now reconstruct the sets of operators $A_x, B_y$."
   ],
   "metadata": {
    "collapsed": false
   }
  },
  {
   "cell_type": "code",
   "execution_count": 71,
   "outputs": [
    {
     "name": "stdout",
     "output_type": "stream",
     "text": [
      "x\n",
      "I\n",
      "x\n",
      "I\n",
      "x\n",
      "I\n"
     ]
    },
    {
     "ename": "IndexError",
     "evalue": "index 2 is out of bounds for axis 0 with size 2",
     "output_type": "error",
     "traceback": [
      "\u001B[1;31m---------------------------------------------------------------------------\u001B[0m",
      "\u001B[1;31mIndexError\u001B[0m                                Traceback (most recent call last)",
      "Cell \u001B[1;32mIn[71], line 6\u001B[0m\n\u001B[0;32m      4\u001B[0m \u001B[38;5;28;01mfor\u001B[39;00m j \u001B[38;5;129;01min\u001B[39;00m \u001B[38;5;28mrange\u001B[39m(Q\u001B[38;5;241m.\u001B[39mshape[\u001B[38;5;241m1\u001B[39m]):\n\u001B[0;32m      5\u001B[0m     \u001B[38;5;28;01mfor\u001B[39;00m i \u001B[38;5;129;01min\u001B[39;00m \u001B[38;5;28mrange\u001B[39m(\u001B[38;5;241m1\u001B[39m, \u001B[38;5;241m2\u001B[39m \u001B[38;5;241m*\u001B[39m Q\u001B[38;5;241m.\u001B[39mshape[\u001B[38;5;241m1\u001B[39m]):\n\u001B[1;32m----> 6\u001B[0m         A[j] \u001B[38;5;241m+\u001B[39m\u001B[38;5;241m=\u001B[39m \u001B[43mB\u001B[49m\u001B[43m[\u001B[49m\u001B[43mi\u001B[49m\u001B[43m,\u001B[49m\u001B[43m \u001B[49m\u001B[43mj\u001B[49m\u001B[43m]\u001B[49m \u001B[38;5;241m*\u001B[39m wb_operator(i, N)\n\u001B[0;32m      8\u001B[0m \u001B[38;5;28;01mfor\u001B[39;00m k \u001B[38;5;129;01min\u001B[39;00m \u001B[38;5;28mrange\u001B[39m(Q\u001B[38;5;241m.\u001B[39mshape[\u001B[38;5;241m1\u001B[39m]):\n\u001B[0;32m      9\u001B[0m     \u001B[38;5;28;01mfor\u001B[39;00m i \u001B[38;5;129;01min\u001B[39;00m \u001B[38;5;28mrange\u001B[39m(\u001B[38;5;241m1\u001B[39m, \u001B[38;5;241m2\u001B[39m \u001B[38;5;241m*\u001B[39m Q\u001B[38;5;241m.\u001B[39mshape[\u001B[38;5;241m1\u001B[39m]):\n",
      "\u001B[1;31mIndexError\u001B[0m: index 2 is out of bounds for axis 0 with size 2"
     ]
    }
   ],
   "source": [
    "A = np.zeros((Q.shape[1], *wb_operator(1, N).shape), dtype='complex')\n",
    "B = np.zeros((Q.shape[1], *wb_operator(1, N).shape), dtype='complex')\n",
    "\n",
    "for j in range(Q.shape[1]):\n",
    "    for i in range(1, 2 * Q.shape[1]):\n",
    "        A[j] += B[i, j] * wb_operator(i, N)\n",
    "\n",
    "for k in range(Q.shape[1]):\n",
    "    for i in range(1, 2 * Q.shape[1]):\n",
    "        B[k] += B[i, k] * wb_operator(i, N).T\n",
    "\n",
    "print(A)\n",
    "print(B)"
   ],
   "metadata": {
    "collapsed": false,
    "ExecuteTime": {
     "end_time": "2023-06-22T09:45:31.820671900Z",
     "start_time": "2023-06-22T09:45:31.794666100Z"
    }
   }
  }
 ],
 "metadata": {
  "kernelspec": {
   "display_name": "Python 3 (ipykernel)",
   "language": "python",
   "name": "python3"
  },
  "language_info": {
   "codemirror_mode": {
    "name": "ipython",
    "version": 3
   },
   "file_extension": ".py",
   "mimetype": "text/x-python",
   "name": "python",
   "nbconvert_exporter": "python",
   "pygments_lexer": "ipython3",
   "version": "3.9.5"
  }
 },
 "nbformat": 4,
 "nbformat_minor": 1
}
